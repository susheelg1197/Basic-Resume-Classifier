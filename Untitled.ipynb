{
 "cells": [
  {
   "cell_type": "code",
   "execution_count": 44,
   "id": "a0611b01",
   "metadata": {},
   "outputs": [],
   "source": [
    "#!pip install spacy\n",
    "    \n",
    "import spacy\n",
    "import pickle\n",
    "import random"
   ]
  },
  {
   "cell_type": "code",
   "execution_count": 70,
   "id": "69922d00",
   "metadata": {},
   "outputs": [],
   "source": [
    "train_data = pickle.load(open('train_data.pkl','rb')) "
   ]
  },
  {
   "cell_type": "code",
   "execution_count": 46,
   "id": "9fe7cfb6",
   "metadata": {},
   "outputs": [
    {
     "data": {
      "text/plain": [
       "('Govardhana K Senior Software Engineer  Bengaluru, Karnataka, Karnataka - Email me on Indeed: indeed.com/r/Govardhana-K/ b2de315d95905b68  Total IT experience 5 Years 6 Months Cloud Lending Solutions INC 4 Month • Salesforce Developer Oracle 5 Years 2 Month • Core Java Developer Languages Core Java, Go Lang Oracle PL-SQL programming, Sales Force Developer with APEX.  Designations & Promotions  Willing to relocate: Anywhere  WORK EXPERIENCE  Senior Software Engineer  Cloud Lending Solutions -  Bangalore, Karnataka -  January 2018 to Present  Present  Senior Consultant  Oracle -  Bangalore, Karnataka -  November 2016 to December 2017  Staff Consultant  Oracle -  Bangalore, Karnataka -  January 2014 to October 2016  Associate Consultant  Oracle -  Bangalore, Karnataka -  November 2012 to December 2013  EDUCATION  B.E in Computer Science Engineering  Adithya Institute of Technology -  Tamil Nadu  September 2008 to June 2012  https://www.indeed.com/r/Govardhana-K/b2de315d95905b68?isid=rex-download&ikw=download-top&co=IN https://www.indeed.com/r/Govardhana-K/b2de315d95905b68?isid=rex-download&ikw=download-top&co=IN   SKILLS  APEX. (Less than 1 year), Data Structures (3 years), FLEXCUBE (5 years), Oracle (5 years), Algorithms (3 years)  LINKS  https://www.linkedin.com/in/govardhana-k-61024944/  ADDITIONAL INFORMATION  Technical Proficiency:  Languages: Core Java, Go Lang, Data Structures & Algorithms, Oracle PL-SQL programming, Sales Force with APEX. Tools: RADTool, Jdeveloper, NetBeans, Eclipse, SQL developer, PL/SQL Developer, WinSCP, Putty Web Technologies: JavaScript, XML, HTML, Webservice  Operating Systems: Linux, Windows Version control system SVN & Git-Hub Databases: Oracle Middleware: Web logic, OC4J Product FLEXCUBE: Oracle FLEXCUBE Versions 10.x, 11.x and 12.x  https://www.linkedin.com/in/govardhana-k-61024944/',\n",
       " {'entities': [(1749, 1755, 'Companies worked at'),\n",
       "   (1696, 1702, 'Companies worked at'),\n",
       "   (1417, 1423, 'Companies worked at'),\n",
       "   (1356, 1793, 'Skills'),\n",
       "   (1209, 1215, 'Companies worked at'),\n",
       "   (1136, 1248, 'Skills'),\n",
       "   (928, 932, 'Graduation Year'),\n",
       "   (858, 889, 'College Name'),\n",
       "   (821, 856, 'Degree'),\n",
       "   (787, 791, 'Graduation Year'),\n",
       "   (744, 750, 'Companies worked at'),\n",
       "   (722, 742, 'Designation'),\n",
       "   (658, 664, 'Companies worked at'),\n",
       "   (640, 656, 'Designation'),\n",
       "   (574, 580, 'Companies worked at'),\n",
       "   (555, 573, 'Designation'),\n",
       "   (470, 493, 'Companies worked at'),\n",
       "   (444, 469, 'Designation'),\n",
       "   (308, 314, 'Companies worked at'),\n",
       "   (234, 240, 'Companies worked at'),\n",
       "   (175, 198, 'Companies worked at'),\n",
       "   (93, 137, 'Email Address'),\n",
       "   (39, 48, 'Location'),\n",
       "   (13, 38, 'Designation'),\n",
       "   (0, 12, 'Name')]})"
      ]
     },
     "execution_count": 46,
     "metadata": {},
     "output_type": "execute_result"
    }
   ],
   "source": [
    "train_data[0]"
   ]
  },
  {
   "cell_type": "code",
   "execution_count": 79,
   "id": "767c7968",
   "metadata": {},
   "outputs": [],
   "source": [
    "# Load the model\n",
    "nlp= spacy.blank('en')\n",
    "\n",
    "# Function to train model\n",
    "def train_model(train_data):\n",
    "    if 'ner' not in nlp.pipe_names: #named entity recognition\n",
    "        ner=nlp.create_pipe('ner') # add ner pipe\n",
    "        nlp.add_pipe(\"ner\", last= True)\n",
    "    \n",
    "    #loop over train_data\n",
    "    for _,annotation in train_data:\n",
    "        for ent in annotation['entities']:\n",
    "            ner.add_label(ent[2]) #add labels\n",
    "    \n",
    "    # disable other pipelines\n",
    "    other_pipes = [pipe for pipe in nlp.pipe_names if pipe != 'ner']\n",
    "    with nlp.disable_pipes(*other_pipes):  # only train NER\n",
    "        optimizer = nlp.begin_training()\n",
    "        for itn in range(10):\n",
    "            print(\"Statring iteration \" + str(itn))\n",
    "            random.shuffle(train_data)\n",
    "            losses = {}\n",
    "            index = 0\n",
    "            for text, annotations in train_data:\n",
    "                try:\n",
    "                    nlp.update(\n",
    "                        [text],  # batch of texts\n",
    "                        [annotations],  # batch of annotations\n",
    "                        drop=0.2,  # dropout - make it harder to memorise data\n",
    "                        sgd=optimizer,  # callable to update weights\n",
    "                        losses=losses)\n",
    "                except Exception as e:\n",
    "                    pass\n",
    "         \n",
    "    print(losses)  \n",
    "    "
   ]
  },
  {
   "cell_type": "code",
   "execution_count": 80,
   "id": "5360130c",
   "metadata": {},
   "outputs": [
    {
     "name": "stdout",
     "output_type": "stream",
     "text": [
      "Statring iteration 0\n",
      "Statring iteration 1\n",
      "Statring iteration 2\n",
      "Statring iteration 3\n",
      "Statring iteration 4\n",
      "Statring iteration 5\n",
      "Statring iteration 6\n",
      "Statring iteration 7\n",
      "Statring iteration 8\n",
      "Statring iteration 9\n",
      "{}\n"
     ]
    }
   ],
   "source": [
    "train_model(train_data)"
   ]
  },
  {
   "cell_type": "code",
   "execution_count": 81,
   "id": "f4494ff6",
   "metadata": {},
   "outputs": [],
   "source": [
    "# Analyze model\n",
    "nlp.to_disk('nlp_model_2')\n"
   ]
  },
  {
   "cell_type": "code",
   "execution_count": 82,
   "id": "3abbd483",
   "metadata": {},
   "outputs": [],
   "source": [
    "nlp_model = spacy.load('nlp_model_2')\n"
   ]
  },
  {
   "cell_type": "code",
   "execution_count": 51,
   "id": "e81fccc9",
   "metadata": {},
   "outputs": [
    {
     "data": {
      "text/plain": [
       "'Vishwanath P Senior Executive (MIS & Audit) - Job Profile in LabourNet Services India Pvt Ltd  Bengaluru, Karnataka - Email me on Indeed: indeed.com/r/Vishwanath-P/06a16ac2d087d3c9  I look forward to a career that provides me an opportunity to improve my knowledge and personality in a challenging work atmosphere. In the long run, I would like to grow leadership position in the organization and make a meaningful contribution to the organization.  Overview: ➢ Total experience of 7.3years. ➢ Have maintained superior\\'s and peer\\'s confidence in efficiency and accuracy of my work.  WORK EXPERIENCE  Senior Executive (MIS & Audit)  Job Profile in LabourNet Services India Pvt Ltd -  June 2016 to Present  from June 2016.  Operating System: Windows 7 Tools Used: MS Office (Excel, Word, PowerPoint, Outlook) ➢ Provide weekly targets to Placement officers and follow-up on the targets v/s achieved and more importantly all the placement related activities are documented. ➢ Working on projection against target achieved for each individual Pan India Placement officers to get there incentives. ➢ Taking care of placement internal Audit. ➢ Supporting Pan India on CLCS (Candidate Life Cycle System) demo to PO, initial hand holding of PO on using data, documentation and template creation. ➢ Timely Sharing Regular Dashboard/Reports to Placement Officers whenever required. ➢ Hand holding \"single point of contact\" owning the placement data, centrally and can share the same to account management, MIS team, Sales team, Management and whoever needs the data in the organization including NSDC. ➢ The Data Management, colleague should have the right information and present during any client audits in HQ office ➢ Taking care of CLCS Tool and will be the one point of contact for placement related queries or issues in Tool. ➢ First point of contact for any issues or queries in CLCS placement tool in the organization. ➢ Giving request to IT Software team of placement tool changes to run the business in smooth. ➢ Taking care of RMS (Reimbursement Management System) ➢ Cross checking original bills and soft copies before approving claims in RMS for all placement officer of Pan India (Size - 23) ➢ Supporting other 3 projects Barclays, HRS (Human Resources Services) &amp; NAPS (National Apprenticeship Promotion Scheme) • Manager role: I have a team member directly reporting to me.  https://www.indeed.com/r/Vishwanath-P/06a16ac2d087d3c9?isid=rex-download&ikw=download-top&co=IN   MIS Executive  ANI Technologies -  October 2015 to April 2016  Operating System: Windows 8.1, 10 Tools Used: MS Excel, Google Sheets, MS word, MS outlook, SQL Database. ➢ Handling Pan India Ola Cafe Operational MIS. ➢ Provide support to the manager in all aspect of operations. ➢ Flashing daily business MIS to Region managers and Product manager. ➢ Taking care of DB (Delivery Boy) attendance of pan India. ➢ Handling Billing and invoices of DB\\'s and coordinating with finance team for monthly salaries. ➢ Shared and handled weekly menu data sheets with IT Software team to update in App. ➢ Taken care of complete Ola Café process operational MIS\\'s. ➢ Coordinating with IT team to flash daily business summary. ➢ Keep updating daily revenue of Cites &amp;o Zone. ➢ Taken care of marketing MIS. ➢ Processing of vendor bills, and also coordinating for reimbursement. Worked on Pilot process (Ola Prime) to set all the MIS reports to complete process. ➢ Handled performance tracker of the prime drivers. ➢ Handled feedback dumps of Ola prime customers. ➢ Shared daily and weekly Prime data for the cities managers. ➢ Taken care of daily offense tracker of calling done by customer feedback callers. ➢ Mapped the Wi-Fi usage of each cab in pan India. ➢ Maintained the agent, cities and over all calling dashboard and flashing on daily basis.  Support Officer  Standard Chartered Financial Ltd -  March 2013 to July 2015  from Mar 2013 to Jul 2015  Operating System: Windows 7 Tools Used: SQL Database, Visual Basic, MS Excel (Macros), MS word, MS outlook.  Roles &amp; Responsibilities: ➢ Provide support to the manager and team in administering and maintaining records. ➢ Handled all employee related matters including joining, exit and other issues of the team and maintaining relevant Employee documents. ➢ Managed all aspects pertaining to compliance and liaising with Area HR and the governance Processing of vendor bills, and also coordinating for official reimbursement of team, assisting them where applicable in following and monitoring Bank processes and procedures. ➢ Availability and easy access of all relevant employee records and documentation. ➢ Processed the daily Internal processing files of different products for approval. ➢ Maintaining the MIS for ENR and sending daily reports to South Manager. ➢ Sending and maintaining monthly review letter to agencies (MRL) on monthly basis. ➢ Maintaining monthly ESAU Communication reports of employees. ➢ Maintaining daily, weekly and monthly MIS and updating to Center Manager.    ➢ Doing internal audit check once in month. ➢ Maintaining RMS management and Attendance.  Manager  7 Inc -  April 2012 to March 2013  Worked in [24]7 Inc as HR Executive from April 2012 to Mar 2013.  Operating System: Windows XP Tools Used: SQL Database, MS Excel, MS Word, MS outlook.  Roles &amp; Responsibilities: ➢ Handling of recruitment database. ➢ Sourcing the profiles from the job portals. ➢ Maintained recruitment team attendance, IT requests, stationary and bills. ➢ Sending Daily offer MIS to Manager. ➢ Short listing the resumes as per the requirements based on Skills, Projects and Educational background and Relocation aspects. ➢ Flashing Daily Work Flow MIS of recruiter on daily basis to Manager. ➢ Maintained data of both joined and dropouts. ➢ Verifying hard copies and scanned copies of candidate documents before releasing offer letter. ➢ Taken care of online tool update of candidate details, candidate test scores and program. ➢ Taken care of joining employee formalities. ➢ Taken care of offers to release on time on induction day. ➢ Releasing the offer letters and uploading the candidate documents in portal in stipulated time and handing over the offered candidate files to operations for further process.  Job Profile in Accenture -  March 2011 to March 2012  Project Name: EDF Energy and Npower Operating System: Windows 7 Tools Used: CRM, ISU, CIS, MS Excel, Citrix, MS outlook, MS Word.  Roles &amp; Responsibilities: ➢ Fulfillment of requests within agreed timelines. ➢ Maintained &amp; sharing daily status updates of workflow of entire team to supervisor. ➢ Assigning work to the team based on team member\\'s skill set and ensuring that the workload is handled effectively and efficiently. ➢ Arranging team meetings to share \"knowledge\" &amp; process related updates within the team. ➢ Taken care of complete process MIS reports. ➢ Handling the Internal Quality Checks of the work completed by associates. ➢ Updating the QC checklist and SAP reporting on a daily basis. ➢ Helping the team members in resolving their quires. ➢ Sending and maintained N1 Notification daily wise MIS of notifications closed and pending.    INFOSYS as Process Associate  Job Profile with Infosys -  December 2009 to September 2010  Project Name: DB Fresher\\'s and Laterals Operating System: SQL Database, MS Excel, MS Word, MS outlook.  Roles &amp; Responsibilities: ➢ Creation of candidate profile. ➢ Handled of recruitment database. ➢ Updating the candidate details in the databases. ➢ Maintaining current status of candidate in the database for our future comparing purpose. ➢ Releasing offer letter in portal of candidate those who got selected in campus recruitment. ➢ Maintained and handled offered candidate documents. ➢ Conducting and co-ordinate the recruitment activity (In-house) ➢ Maintained and updating candidates profile in Infy HR portal. ➢ Collecting scanned copies of academic details from the candidate to verify.  Rewords and Recognition: • Given with Ramp Award in Infosys for more Productivity and Performance and Meeting Targets for every month with in the stipulated time and with Good Quality.  EDUCATION  BSc  V V Pura College of Science -  Bengaluru, Karnataka'"
      ]
     },
     "execution_count": 51,
     "metadata": {},
     "output_type": "execute_result"
    }
   ],
   "source": [
    "train_data[0][0]\n"
   ]
  },
  {
   "cell_type": "code",
   "execution_count": 86,
   "id": "9900288f",
   "metadata": {},
   "outputs": [],
   "source": [
    "#Print classification of data\n",
    "doc = nlp_model(train_data[0][0])\n",
    "for ent in doc.ents:\n",
    "    print(f'{ent.label_.upper():{30}}- {ent.text}')\n"
   ]
  },
  {
   "cell_type": "code",
   "execution_count": null,
   "id": "0dfba14b",
   "metadata": {},
   "outputs": [],
   "source": []
  },
  {
   "cell_type": "code",
   "execution_count": null,
   "id": "f1ef8acc",
   "metadata": {},
   "outputs": [],
   "source": []
  }
 ],
 "metadata": {
  "kernelspec": {
   "display_name": "Python 3",
   "language": "python",
   "name": "python3"
  },
  "language_info": {
   "codemirror_mode": {
    "name": "ipython",
    "version": 3
   },
   "file_extension": ".py",
   "mimetype": "text/x-python",
   "name": "python",
   "nbconvert_exporter": "python",
   "pygments_lexer": "ipython3",
   "version": "3.8.10"
  }
 },
 "nbformat": 4,
 "nbformat_minor": 5
}
